{
  "nbformat": 4,
  "nbformat_minor": 0,
  "metadata": {
    "colab": {
      "private_outputs": true,
      "provenance": [],
      "toc_visible": true,
      "authorship_tag": "ABX9TyO6o7ys8t3oxRMXliAY5K8M",
      "include_colab_link": true
    },
    "kernelspec": {
      "name": "python3",
      "display_name": "Python 3"
    },
    "language_info": {
      "name": "python"
    }
  },
  "cells": [
    {
      "cell_type": "markdown",
      "metadata": {
        "id": "view-in-github",
        "colab_type": "text"
      },
      "source": [
        "<a href=\"https://colab.research.google.com/github/gactyxc/NDCI-mGMM/blob/main/NDCI_mGMM.ipynb\" target=\"_parent\"><img src=\"https://colab.research.google.com/assets/colab-badge.svg\" alt=\"Open In Colab\"/></a>"
      ]
    },
    {
      "cell_type": "code",
      "execution_count": null,
      "metadata": {
        "id": "gGypo1adCGNs"
      },
      "outputs": [],
      "source": [
        "! pip install earthengine-api\n",
        "import ee\n",
        "ee.Authenticate()\n",
        "ee.Initialize(project='crops-mapping-gaoyuan')\n",
        "!pip install geemap"
      ]
    },
    {
      "cell_type": "code",
      "source": [
        "# global variable defination\n",
        "year = 2020\n",
        "startDoy = 180\n",
        "endDoy = 210\n",
        "roi = ee.Geometry.Rectangle(\n",
        "    coords=[124.0, 44.2, 125.0, 45.2], proj='EPSG:4326', geodesic=False\n",
        ")"
      ],
      "metadata": {
        "id": "c4iuuXzRgUDN"
      },
      "execution_count": null,
      "outputs": []
    },
    {
      "cell_type": "markdown",
      "source": [
        "# part-1: data preprocession"
      ],
      "metadata": {
        "id": "LzblbIk51wLD"
      }
    },
    {
      "cell_type": "code",
      "source": [
        "# common functions\n",
        "# function to get the sentinel-2 image collection based on the study data range and study area ----*/\n",
        "# function to remove cloud\n",
        "# function to exclude bad data at scene edges\n",
        "def maskEdges(s2_img):\n",
        "    return s2_img.updateMask(\n",
        "        s2_img.select('B8A').mask().updateMask(s2_img.select('B9').mask()))\n",
        "\n",
        "# Function to mask clouds in Sentinel-2 imagery.\n",
        "def maskClouds(img):\n",
        "    max_cloud_probabiltly = 50\n",
        "    clouds = ee.Image(img.get('cloud_mask')).select('probability')\n",
        "    isNotCloud = clouds.lt(max_cloud_probabiltly)\n",
        "    return img.updateMask(isNotCloud)\n",
        "\n",
        "def sentinel2_collection(start_data, end_data, roi):\n",
        "    s2Sr = ee.ImageCollection(\"COPERNICUS/S2_HARMONIZED\")\n",
        "    s2Clouds = ee.ImageCollection(\"COPERNICUS/S2_CLOUD_PROBABILITY\")\n",
        "\n",
        "    # define the filter constraints\n",
        "    criteria = ee.Filter.And(ee.Filter.geometry(roi), ee.Filter.date(start_data, end_data))\n",
        "\n",
        "    # sentinel-2 data collection\n",
        "    sentinel2_bands = ['B2', 'B3', 'B4', 'B5', 'B6', 'B7', 'B8', 'B8A', 'B11', 'B12']\n",
        "    new_bands = ['B', 'G', 'R', 'RE1', 'RE2', 'RE3', 'NIR', 'RE4', 'SWIR1', 'SWIR2']\n",
        "\n",
        "    # Filter input collections by desired data range and region.\n",
        "    s2Sr = s2Sr.filter(criteria).map(maskEdges)\n",
        "    s2Clouds = s2Clouds.filter(criteria)\n",
        "\n",
        "    # Join S2 SR with cloud probability dataset to add cloud mask.\n",
        "    s2SrWithCloudMask = ee.Join.saveFirst('cloud_mask').apply(**{\n",
        "      \"primary\": s2Sr,\n",
        "      \"secondary\": s2Clouds,\n",
        "      \"condition\": ee.Filter.equals(**{\"leftField\": \"system:index\", \"rightField\":\"system:index\"})\n",
        "      })\n",
        "\n",
        "    # collect the images without cloud\n",
        "    s2CloudMasked = ee.ImageCollection(s2SrWithCloudMask).map(maskClouds).select(sentinel2_bands, new_bands)\n",
        "    return s2CloudMasked\n",
        "\n",
        "# function to add all related VIs\n",
        "# add NDCI, a normalized difference composite index for maize identification\n",
        "def addNDCI(img):\n",
        "    NDCI = img.expression('NDCI = 2500 * (10000-SWIR1 - G) / (7.5 * RE1 - SWIR1 + 20000)', {\n",
        "        'RE1': img.select('RE1'),\n",
        "        'G': img.select('G'),\n",
        "        'SWIR1': img.select('SWIR1')\n",
        "    })\n",
        "    img = img.addBands(NDCI)\n",
        "    img = img.toInt16()\n",
        "    return img\n",
        "\n",
        "# add LSWI\n",
        "def addLSWI(image):\n",
        "    LSWI = image.expression('LSWI = (NIR - SWIR1) / (NIR + SWIR1)', {\n",
        "        'SWIR1': image.select('SWIR1'),\n",
        "        'NIR': image.select('NIR')\n",
        "    })\n",
        "    return image.addBands(LSWI)\n",
        "\n",
        "# add EVI\n",
        "def addEVI(image):\n",
        "    EVI = image.expression('EVI = 2.5 * (NIR - R) / (NIR + 6 * R - 7.5 * B + 10000)', {\n",
        "        'NIR': image.select('NIR'),\n",
        "        'R': image.select('R'),\n",
        "        'B': image.select('B')\n",
        "    })\n",
        "    return image.addBands(EVI)"
      ],
      "metadata": {
        "id": "98jXHfPaieHL"
      },
      "execution_count": null,
      "outputs": []
    },
    {
      "cell_type": "markdown",
      "source": [
        "# part-2: get NDCI map"
      ],
      "metadata": {
        "id": "BhIdhZDu2Wsd"
      }
    },
    {
      "cell_type": "code",
      "source": [
        "# year: the target identification year\n",
        "# startDoy: the start Doy of optimal identification window\n",
        "# endDoy: the end Doy of optimal identification window\n",
        "# roi: target region of study\n",
        "# output value of this function is the time series NDCI images in a given time period\n",
        "def get_NDCI_map(year, startDoy, endDoy, roi):\n",
        "    # define the start and end time of identification\n",
        "    startDate = ee.Date.fromYMD(year, 1, 1).advance(startDoy, 'day')\n",
        "    endDate = ee.Date.fromYMD(year, 1, 1).advance(endDoy, 'day')\n",
        "\n",
        "    # define the image collection\n",
        "    s2SR_imgCol = sentinel2_collection(ee.Date.fromYMD(year, 1, 1),\n",
        "                                       ee.Date.fromYMD(year, 12, 31), roi)\n",
        "\n",
        "    # Create a date range list with a specified 10-day interval，use millis as unit\n",
        "    dates = ee.List.sequence(startDate.millis(), endDate.millis(), 1000 * 60 * 60 * 24 * 10)\n",
        "\n",
        "    # function to resample time resolution of image collection to 10 day\n",
        "    def resampleTo10Days(date):\n",
        "        currentDate = ee.Date(date)\n",
        "        endDate = currentDate.advance(10, 'day')\n",
        "        summarizedImageCol = s2SR_imgCol.filterDate(currentDate, endDate)\n",
        "        summarizedImage = summarizedImageCol.median()\n",
        "        summarizedImage = summarizedImage.set('system:time_start', currentDate)\n",
        "        return summarizedImage\n",
        "\n",
        "    # Apply the time resampling function using map()\n",
        "    resampledImages = ee.ImageCollection(dates.map(resampleTo10Days))\n",
        "    resampledImages = resampledImages.map(addLSWI)\n",
        "    resampledImages = resampledImages.map(addEVI)\n",
        "    resampledImages = resampledImages.map(addNDCI)\n",
        "\n",
        "    # get the BSMI index and the remove the outlier pixels as 0\n",
        "    def NDCI_mask(image):\n",
        "      LSWI = image.select('LSWI')\n",
        "      EVI = image.select('EVI')\n",
        "      mask = EVI.lte(0.35).And(LSWI.add(ee.Image.constant(0.05)).gte(EVI))\n",
        "      valid_mask = mask.Not()\n",
        "      NDCI = image.select('NDCI')\n",
        "      NDCI = NDCI.multiply(valid_mask).rename('NDCI_mask')\n",
        "      NDCI = NDCI.toInt16()\n",
        "      image = image.addBands(NDCI)\n",
        "      return image.select('NDCI_mask')\n",
        "    NDCI_Images = resampledImages.map(NDCI_mask)\n",
        "    return NDCI_Images"
      ],
      "metadata": {
        "id": "IVACJJYE25C1"
      },
      "execution_count": null,
      "outputs": []
    },
    {
      "cell_type": "markdown",
      "source": [
        "# part-3: mGMM construction"
      ],
      "metadata": {
        "id": "ggtK8-Ul2lBk"
      }
    },
    {
      "cell_type": "code",
      "source": [
        "# ------ step-1. get the random sample in each 1°×1° grid\n",
        "# this function use the ESA landMap as cropland mask\n",
        "# roi: target region of study\n",
        "# sampleSize: the random sample size in each grid, the default size is 0.1% of the number of pixels in each grid\n",
        "# output value of this function is random samples in a given grid and given size\n",
        "def get_random_sample(roi, sampleSize=None):\n",
        "    ESA_landmap = ee.ImageCollection(\"ESA/WorldCover/v100\")\n",
        "    ESA_croplandMask = ESA_landmap.first().eq(40)\n",
        "\n",
        "    if sampleSize is None:\n",
        "        sampleSize = 124000\n",
        "\n",
        "    randomPoints = ee.FeatureCollection.randomPoints(\n",
        "        region=roi, points=sampleSize, seed=1234, maxError=1\n",
        "        )\n",
        "\n",
        "    # filter the sample use cropland mask\n",
        "    roi_croplandMask = ESA_croplandMask.clip(roi)\n",
        "    roi_croplandMask = roi_croplandMask.updateMask(roi_croplandMask)\n",
        "\n",
        "    def mask_points(point):\n",
        "      isInsideMask = roi_croplandMask.reduceRegion(\n",
        "          reducer=ee.Reducer.first(),\n",
        "          geometry=point.geometry(),\n",
        "          scale=10,\n",
        "          maxPixels=1\n",
        "      ).getNumber('Map')\n",
        "      return point.set('inside_mask', isInsideMask)\n",
        "\n",
        "    maskedPoints = randomPoints.map(mask_points)\n",
        "    finalPoints = maskedPoints.filter(ee.Filter.eq('inside_mask', 1))\n",
        "    return finalPoints"
      ],
      "metadata": {
        "id": "z1OxPSQMjRzy"
      },
      "execution_count": null,
      "outputs": []
    },
    {
      "cell_type": "code",
      "source": [
        "#------ step-2. extract the NDCI value of each image for each random point\n",
        "# imgCol: the extracted time series images\n",
        "# pts: extraction points\n",
        "# this funtion runs to derive the image values of given samples\n",
        "def extract_points_value(imgCol, pts):\n",
        "\n",
        "    # Define a function to extract values at points from an image\n",
        "    def extract_values(image, points):\n",
        "        # Sample the image at the points\n",
        "        sampled_values = image.sampleRegions(\n",
        "            collection=points,\n",
        "            properties=['ID'],  # Properties to include from points\n",
        "            scale=10\n",
        "        )\n",
        "        return sampled_values\n",
        "\n",
        "    # Get the list of images in the collection\n",
        "    image_list = imgCol.toList(imgCol.size())\n",
        "    # Initialize an empty list to store results\n",
        "    result_list = []\n",
        "    # Iterate over each image in the collection\n",
        "    for i in range(image_list.size().getInfo()):\n",
        "      image = ee.Image(image_list.get(i))\n",
        "      sampled_values = extract_values(image, pts)\n",
        "      result_list.append(sampled_values)\n",
        "    combined_results = ee.FeatureCollection(result_list).flatten()\n",
        "\n",
        "    task = ee.batch.Export.table.toDrive(\n",
        "        collection=combined_results,\n",
        "        description='testRegion_cropSamples_VI',\n",
        "        folder='cropSamples_VI',\n",
        "        fileFormat='CSV'\n",
        "    )\n",
        "    task.start()"
      ],
      "metadata": {
        "id": "mGdhA4QA31jz"
      },
      "execution_count": null,
      "outputs": []
    },
    {
      "cell_type": "markdown",
      "source": [
        "# main procedure"
      ],
      "metadata": {
        "id": "W02D719Q3hRQ"
      }
    },
    {
      "cell_type": "code",
      "source": [
        "import geemap\n",
        "##---- main producer of get_NDCI_samples\n",
        "imgCol = get_NDCI_map(year, startDoy, endDoy, roi)\n",
        "pts = get_random_sample(roi)\n",
        "extract_points_value(imgCol, pts)\n",
        "m = geemap.Map()\n",
        "m.set_center(132.5, 46.7, 7)\n",
        "m.add_layer(roi, {'color': 'yellow'}, 'Region')\n",
        "m"
      ],
      "metadata": {
        "id": "fTs7YOGOr2Z2"
      },
      "execution_count": null,
      "outputs": []
    }
  ]
}